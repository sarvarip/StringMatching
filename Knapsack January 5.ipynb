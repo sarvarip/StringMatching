{
 "cells": [
  {
   "cell_type": "code",
   "execution_count": 14,
   "metadata": {},
   "outputs": [],
   "source": [
    "def knapsack (capacity, weights, values, n):\n",
    "    solution = [[None for y in range (capacity+1)] for x in range (n+1)]\n",
    "    for k in range(n+1):\n",
    "        for w in range(capacity+1):\n",
    "            if k==0 or w==0:\n",
    "                solution[k][w] = 0\n",
    "            elif weights[k-1] > w:\n",
    "                solution[k][w] = solution[k-1][w]\n",
    "            else:\n",
    "                solution[k][w] = max(solution[k-1][w], values[k-1]+solution[k-1][w-weights[k-1]])\n",
    "    print(solution[n][capacity])\n",
    "    \n",
    "    #backtrack\n",
    "    sack = []\n",
    "    k = n\n",
    "    w = capacity\n",
    "    val = solution[k][w]\n",
    "    while val != 0:\n",
    "        if solution[k-1][w] == val:\n",
    "            k = k-1\n",
    "        else:\n",
    "            sack.append(k) #k-1+1 +1 because of zero indexing\n",
    "            k = k-1\n",
    "            w = w-weights[k-1]\n",
    "        val = solution[k][w]\n",
    "        \n",
    "    return sack"
   ]
  },
  {
   "cell_type": "code",
   "execution_count": 15,
   "metadata": {},
   "outputs": [
    {
     "name": "stdout",
     "output_type": "stream",
     "text": [
      "7\n",
      "[2, 1]\n"
     ]
    }
   ],
   "source": [
    "weights = [2,3,4,5]\n",
    "values = [3,4,5,6]\n",
    "sack = knapsack(5, weights, values, len(weights))\n",
    "print(sack)"
   ]
  },
  {
   "cell_type": "code",
   "execution_count": null,
   "metadata": {},
   "outputs": [],
   "source": []
  }
 ],
 "metadata": {
  "kernelspec": {
   "display_name": "Python 3",
   "language": "python",
   "name": "python3"
  },
  "language_info": {
   "codemirror_mode": {
    "name": "ipython",
    "version": 3
   },
   "file_extension": ".py",
   "mimetype": "text/x-python",
   "name": "python",
   "nbconvert_exporter": "python",
   "pygments_lexer": "ipython3",
   "version": "3.7.0"
  }
 },
 "nbformat": 4,
 "nbformat_minor": 2
}
